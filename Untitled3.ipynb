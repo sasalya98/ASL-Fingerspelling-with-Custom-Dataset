{
 "cells": [
  {
   "cell_type": "markdown",
   "id": "f073ae49-011c-439b-840a-e26abef3b0b8",
   "metadata": {},
   "source": [
    "# Live Setup"
   ]
  },
  {
   "cell_type": "code",
   "execution_count": null,
   "id": "62022d38-4618-4aa9-8a84-32ff7ecdedb3",
   "metadata": {},
   "outputs": [],
   "source": [
    "import cv2\n",
    "import numpy as np\n",
    "from tensorflow.keras.models import load_model\n",
    "from gtts import gTTS\n",
    "import os\n",
    "\n",
    "model = load_model('residual_cnn_model.keras')\n",
    "\n",
    "# Class names for the ASL letters\n",
    "classes = ['A', 'B', 'C', 'D', 'E', 'F', 'G', 'H', 'I', 'K', 'L', 'M', 'N', 'O', 'P', 'Q', 'R', 'S', 'T', 'U', 'V', 'W', 'X', 'Y']\n",
    "\n",
    "cap = cv2.VideoCapture(0)\n",
    "\n",
    "# List to store the sequence of letters\n",
    "text_sequence = []\n",
    "\n",
    "while True:\n",
    "    ret, frame = cap.read()\n",
    "    if not ret:\n",
    "        break\n",
    "    \n",
    "    frame = cv2.flip(frame, 1)\n",
    "    \n",
    "    roi = frame[100:300, 100:300]\n",
    "    \n",
    "    # Preprocess the ROI\n",
    "    gray = cv2.cvtColor(roi, cv2.COLOR_BGR2GRAY)\n",
    "    normalized = cv2.normalize(gray, None, 0, 255, cv2.NORM_MINMAX)\n",
    "    resized = cv2.resize(normalized, (28, 28))\n",
    "    reshaped = np.reshape(resized, (1, 28, 28, 1)) / 255.0\n",
    "    \n",
    "    # Predict the letter\n",
    "    result = model.predict(reshaped)\n",
    "    index = np.argmax(result)\n",
    "    \n",
    "    if index < len(classes):\n",
    "        letter = classes[index]\n",
    "    else:\n",
    "        letter = '?'\n",
    "    \n",
    "    # Display the predicted letter on the screen\n",
    "    cv2.putText(frame, letter, (100, 90), cv2.FONT_HERSHEY_SIMPLEX, 2, (255, 0, 0), 2)\n",
    "    cv2.rectangle(frame, (100, 100), (300, 300), (0, 255, 0), 2)\n",
    "    cv2.imshow('Frame', frame)\n",
    "    \n",
    "    # Save the letter if 's' is pressed, exit if 'q' is pressed\n",
    "    key = cv2.waitKey(1) & 0xFF\n",
    "    if key == ord('s'):\n",
    "        text_sequence.append(letter)\n",
    "    elif key == ord('q'):\n",
    "        break\n",
    "\n",
    "cap.release()\n",
    "cv2.destroyAllWindows()\n",
    "\n",
    "# Convert the resulting text sequence to speech\n",
    "text = ''.join(text_sequence)\n",
    "print(\"Predicted text:\", text)\n",
    "\n",
    "# Use gTTS to convert text to speech\n",
    "if text:\n",
    "    tts = gTTS(text=text, lang='en')\n",
    "    tts.save(\"predicted_text.mp3\")\n",
    "    os.system(\"start predicted_text.mp3\")  # For Windows, use \"start\", for macOS use \"open\", and for Linux use \"xdg-open\"\n"
   ]
  }
 ],
 "metadata": {
  "kernelspec": {
   "display_name": "Python 3 (ipykernel)",
   "language": "python",
   "name": "python3"
  },
  "language_info": {
   "codemirror_mode": {
    "name": "ipython",
    "version": 3
   },
   "file_extension": ".py",
   "mimetype": "text/x-python",
   "name": "python",
   "nbconvert_exporter": "python",
   "pygments_lexer": "ipython3",
   "version": "3.9.20"
  }
 },
 "nbformat": 4,
 "nbformat_minor": 5
}
